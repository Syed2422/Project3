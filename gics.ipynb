{
 "cells": [
  {
   "cell_type": "code",
   "execution_count": 2,
   "id": "754454ce-3174-47e2-8dd4-e6d6c958a38c",
   "metadata": {},
   "outputs": [],
   "source": [
    "import os\n",
    "from dotenv import load_dotenv\n",
    "\n",
    "# Dynamically get the path to the .env file for Jupyter/IPython\n",
    "current_directory = os.getcwd()\n",
    "env_path = os.path.join(current_directory, 'API_KEY.env')\n",
    "\n",
    "# Load the .env file\n",
    "load_dotenv(dotenv_path=env_path)\n",
    "\n",
    "# Access API keys\n",
    "OPENAI_API_KEY = os.getenv(\"OPENAI_API_KEY\")\n",
    "NINJA_API_KEY = os.getenv(\"NINJA_API_KEY\")\n",
    "ALPHA_VANTAGE_API_KEY = os.getenv(\"ALPHA_VANTAGE_API_KEY\")\n",
    "FINNHUB_API_KEY = os.getenv(\"FINNHUB_API_KEY\")"
   ]
  },
  {
   "cell_type": "code",
   "execution_count": 3,
   "id": "63d80900-c3bf-46fb-8d8e-28b088dc23cf",
   "metadata": {},
   "outputs": [
    {
     "name": "stdout",
     "output_type": "stream",
     "text": [
      "             Adj Close      Volume\n",
      "date                              \n",
      "2023-12-29  191.591904  42672148.0\n",
      "2023-12-28  192.636788  34049898.0\n",
      "2023-12-27  192.208883  47899806.0\n",
      "2023-12-26  192.109371  28919310.0\n",
      "2023-12-22  192.656691  37149570.0\n"
     ]
    },
    {
     "name": "stderr",
     "output_type": "stream",
     "text": [
      "/var/folders/ft/435zx8653tx1h7p86f714_hh0000gn/T/ipykernel_33433/415040475.py:14: FutureWarning: Value based partial slicing on non-monotonic DatetimeIndexes with non-existing keys is deprecated and will raise a KeyError in a future Version.\n",
      "  data = data.loc['2019-01-01':'2023-12-31']  # Filter for the required date range\n"
     ]
    }
   ],
   "source": [
    "#### from alpha_vantage.timeseries import TimeSeries\n",
    "import pandas as pd\n",
    "\n",
    "# Your Alpha Vantage API Key\n",
    "API_KEY = \n",
    "\n",
    "def fetch_alpha_vantage_data(ticker):\n",
    "    \"\"\"\n",
    "    Fetch daily stock data from Alpha Vantage.\n",
    "    \"\"\"\n",
    "    try:\n",
    "        ts = TimeSeries(key=API_KEY, output_format='pandas')\n",
    "        data, _ = ts.get_daily_adjusted(symbol=ticker, outputsize='full')\n",
    "        data = data.loc['2019-01-01':'2023-12-31']  # Filter for the required date range\n",
    "        data = data.rename(columns={\n",
    "            '5. adjusted close': 'Adj Close',\n",
    "            '6. volume': 'Volume'\n",
    "        })\n",
    "        return data[['Adj Close', 'Volume']]\n",
    "    except Exception as e:\n",
    "        print(f\"Error fetching data for {ticker} from Alpha Vantage: {e}\")\n",
    "        return None\n",
    "\n",
    "# Example for fetching data for AAPL\n",
    "data = fetch_alpha_vantage_data(\"AAPL\")\n",
    "print(data.head())\n"
   ]
  },
  {
   "cell_type": "code",
   "execution_count": 5,
   "id": "bb029932-a821-408b-ae25-590734df889a",
   "metadata": {},
   "outputs": [
    {
     "name": "stdout",
     "output_type": "stream",
     "text": [
      "Fetching data for AAPL...\n"
     ]
    },
    {
     "name": "stderr",
     "output_type": "stream",
     "text": [
      "/var/folders/ft/435zx8653tx1h7p86f714_hh0000gn/T/ipykernel_33433/3714842178.py:43: FutureWarning: Value based partial slicing on non-monotonic DatetimeIndexes with non-existing keys is deprecated and will raise a KeyError in a future Version.\n",
      "  data = data.loc[\"2019-01-01\":\"2023-12-31\"]  # Filter by date range\n"
     ]
    },
    {
     "name": "stdout",
     "output_type": "stream",
     "text": [
      "Fetching data for MSFT...\n"
     ]
    },
    {
     "name": "stderr",
     "output_type": "stream",
     "text": [
      "/var/folders/ft/435zx8653tx1h7p86f714_hh0000gn/T/ipykernel_33433/3714842178.py:43: FutureWarning: Value based partial slicing on non-monotonic DatetimeIndexes with non-existing keys is deprecated and will raise a KeyError in a future Version.\n",
      "  data = data.loc[\"2019-01-01\":\"2023-12-31\"]  # Filter by date range\n"
     ]
    },
    {
     "name": "stdout",
     "output_type": "stream",
     "text": [
      "Fetching data for JNJ...\n"
     ]
    },
    {
     "name": "stderr",
     "output_type": "stream",
     "text": [
      "/var/folders/ft/435zx8653tx1h7p86f714_hh0000gn/T/ipykernel_33433/3714842178.py:43: FutureWarning: Value based partial slicing on non-monotonic DatetimeIndexes with non-existing keys is deprecated and will raise a KeyError in a future Version.\n",
      "  data = data.loc[\"2019-01-01\":\"2023-12-31\"]  # Filter by date range\n"
     ]
    },
    {
     "name": "stdout",
     "output_type": "stream",
     "text": [
      "Fetching data for PFE...\n"
     ]
    },
    {
     "name": "stderr",
     "output_type": "stream",
     "text": [
      "/var/folders/ft/435zx8653tx1h7p86f714_hh0000gn/T/ipykernel_33433/3714842178.py:43: FutureWarning: Value based partial slicing on non-monotonic DatetimeIndexes with non-existing keys is deprecated and will raise a KeyError in a future Version.\n",
      "  data = data.loc[\"2019-01-01\":\"2023-12-31\"]  # Filter by date range\n"
     ]
    },
    {
     "name": "stdout",
     "output_type": "stream",
     "text": [
      "Fetching data for JPM...\n"
     ]
    },
    {
     "name": "stderr",
     "output_type": "stream",
     "text": [
      "/var/folders/ft/435zx8653tx1h7p86f714_hh0000gn/T/ipykernel_33433/3714842178.py:43: FutureWarning: Value based partial slicing on non-monotonic DatetimeIndexes with non-existing keys is deprecated and will raise a KeyError in a future Version.\n",
      "  data = data.loc[\"2019-01-01\":\"2023-12-31\"]  # Filter by date range\n"
     ]
    },
    {
     "name": "stdout",
     "output_type": "stream",
     "text": [
      "Fetching data for BAC...\n"
     ]
    },
    {
     "name": "stderr",
     "output_type": "stream",
     "text": [
      "/var/folders/ft/435zx8653tx1h7p86f714_hh0000gn/T/ipykernel_33433/3714842178.py:43: FutureWarning: Value based partial slicing on non-monotonic DatetimeIndexes with non-existing keys is deprecated and will raise a KeyError in a future Version.\n",
      "  data = data.loc[\"2019-01-01\":\"2023-12-31\"]  # Filter by date range\n"
     ]
    },
    {
     "name": "stdout",
     "output_type": "stream",
     "text": [
      "Fetching data for AMZN...\n"
     ]
    },
    {
     "name": "stderr",
     "output_type": "stream",
     "text": [
      "/var/folders/ft/435zx8653tx1h7p86f714_hh0000gn/T/ipykernel_33433/3714842178.py:43: FutureWarning: Value based partial slicing on non-monotonic DatetimeIndexes with non-existing keys is deprecated and will raise a KeyError in a future Version.\n",
      "  data = data.loc[\"2019-01-01\":\"2023-12-31\"]  # Filter by date range\n"
     ]
    },
    {
     "name": "stdout",
     "output_type": "stream",
     "text": [
      "Fetching data for TSLA...\n"
     ]
    },
    {
     "name": "stderr",
     "output_type": "stream",
     "text": [
      "/var/folders/ft/435zx8653tx1h7p86f714_hh0000gn/T/ipykernel_33433/3714842178.py:43: FutureWarning: Value based partial slicing on non-monotonic DatetimeIndexes with non-existing keys is deprecated and will raise a KeyError in a future Version.\n",
      "  data = data.loc[\"2019-01-01\":\"2023-12-31\"]  # Filter by date range\n"
     ]
    },
    {
     "name": "stdout",
     "output_type": "stream",
     "text": [
      "Fetching data for PG...\n"
     ]
    },
    {
     "name": "stderr",
     "output_type": "stream",
     "text": [
      "/var/folders/ft/435zx8653tx1h7p86f714_hh0000gn/T/ipykernel_33433/3714842178.py:43: FutureWarning: Value based partial slicing on non-monotonic DatetimeIndexes with non-existing keys is deprecated and will raise a KeyError in a future Version.\n",
      "  data = data.loc[\"2019-01-01\":\"2023-12-31\"]  # Filter by date range\n"
     ]
    },
    {
     "name": "stdout",
     "output_type": "stream",
     "text": [
      "Fetching data for KO...\n"
     ]
    },
    {
     "name": "stderr",
     "output_type": "stream",
     "text": [
      "/var/folders/ft/435zx8653tx1h7p86f714_hh0000gn/T/ipykernel_33433/3714842178.py:43: FutureWarning: Value based partial slicing on non-monotonic DatetimeIndexes with non-existing keys is deprecated and will raise a KeyError in a future Version.\n",
      "  data = data.loc[\"2019-01-01\":\"2023-12-31\"]  # Filter by date range\n"
     ]
    },
    {
     "name": "stdout",
     "output_type": "stream",
     "text": [
      "Fetching data for XOM...\n"
     ]
    },
    {
     "name": "stderr",
     "output_type": "stream",
     "text": [
      "/var/folders/ft/435zx8653tx1h7p86f714_hh0000gn/T/ipykernel_33433/3714842178.py:43: FutureWarning: Value based partial slicing on non-monotonic DatetimeIndexes with non-existing keys is deprecated and will raise a KeyError in a future Version.\n",
      "  data = data.loc[\"2019-01-01\":\"2023-12-31\"]  # Filter by date range\n"
     ]
    },
    {
     "name": "stdout",
     "output_type": "stream",
     "text": [
      "Fetching data for CVX...\n"
     ]
    },
    {
     "name": "stderr",
     "output_type": "stream",
     "text": [
      "/var/folders/ft/435zx8653tx1h7p86f714_hh0000gn/T/ipykernel_33433/3714842178.py:43: FutureWarning: Value based partial slicing on non-monotonic DatetimeIndexes with non-existing keys is deprecated and will raise a KeyError in a future Version.\n",
      "  data = data.loc[\"2019-01-01\":\"2023-12-31\"]  # Filter by date range\n"
     ]
    },
    {
     "name": "stdout",
     "output_type": "stream",
     "text": [
      "Fetching data for BA...\n"
     ]
    },
    {
     "name": "stderr",
     "output_type": "stream",
     "text": [
      "/var/folders/ft/435zx8653tx1h7p86f714_hh0000gn/T/ipykernel_33433/3714842178.py:43: FutureWarning: Value based partial slicing on non-monotonic DatetimeIndexes with non-existing keys is deprecated and will raise a KeyError in a future Version.\n",
      "  data = data.loc[\"2019-01-01\":\"2023-12-31\"]  # Filter by date range\n"
     ]
    },
    {
     "name": "stdout",
     "output_type": "stream",
     "text": [
      "Fetching data for CAT...\n"
     ]
    },
    {
     "name": "stderr",
     "output_type": "stream",
     "text": [
      "/var/folders/ft/435zx8653tx1h7p86f714_hh0000gn/T/ipykernel_33433/3714842178.py:43: FutureWarning: Value based partial slicing on non-monotonic DatetimeIndexes with non-existing keys is deprecated and will raise a KeyError in a future Version.\n",
      "  data = data.loc[\"2019-01-01\":\"2023-12-31\"]  # Filter by date range\n"
     ]
    },
    {
     "name": "stdout",
     "output_type": "stream",
     "text": [
      "Fetching data for LIN...\n"
     ]
    },
    {
     "name": "stderr",
     "output_type": "stream",
     "text": [
      "/var/folders/ft/435zx8653tx1h7p86f714_hh0000gn/T/ipykernel_33433/3714842178.py:43: FutureWarning: Value based partial slicing on non-monotonic DatetimeIndexes with non-existing keys is deprecated and will raise a KeyError in a future Version.\n",
      "  data = data.loc[\"2019-01-01\":\"2023-12-31\"]  # Filter by date range\n"
     ]
    },
    {
     "name": "stdout",
     "output_type": "stream",
     "text": [
      "Fetching data for DOW...\n"
     ]
    },
    {
     "name": "stderr",
     "output_type": "stream",
     "text": [
      "/var/folders/ft/435zx8653tx1h7p86f714_hh0000gn/T/ipykernel_33433/3714842178.py:43: FutureWarning: Value based partial slicing on non-monotonic DatetimeIndexes with non-existing keys is deprecated and will raise a KeyError in a future Version.\n",
      "  data = data.loc[\"2019-01-01\":\"2023-12-31\"]  # Filter by date range\n"
     ]
    },
    {
     "name": "stdout",
     "output_type": "stream",
     "text": [
      "Fetching data for AMT...\n"
     ]
    },
    {
     "name": "stderr",
     "output_type": "stream",
     "text": [
      "/var/folders/ft/435zx8653tx1h7p86f714_hh0000gn/T/ipykernel_33433/3714842178.py:43: FutureWarning: Value based partial slicing on non-monotonic DatetimeIndexes with non-existing keys is deprecated and will raise a KeyError in a future Version.\n",
      "  data = data.loc[\"2019-01-01\":\"2023-12-31\"]  # Filter by date range\n"
     ]
    },
    {
     "name": "stdout",
     "output_type": "stream",
     "text": [
      "Fetching data for SPG...\n"
     ]
    },
    {
     "name": "stderr",
     "output_type": "stream",
     "text": [
      "/var/folders/ft/435zx8653tx1h7p86f714_hh0000gn/T/ipykernel_33433/3714842178.py:43: FutureWarning: Value based partial slicing on non-monotonic DatetimeIndexes with non-existing keys is deprecated and will raise a KeyError in a future Version.\n",
      "  data = data.loc[\"2019-01-01\":\"2023-12-31\"]  # Filter by date range\n"
     ]
    },
    {
     "name": "stdout",
     "output_type": "stream",
     "text": [
      "Fetching data for NEE...\n"
     ]
    },
    {
     "name": "stderr",
     "output_type": "stream",
     "text": [
      "/var/folders/ft/435zx8653tx1h7p86f714_hh0000gn/T/ipykernel_33433/3714842178.py:43: FutureWarning: Value based partial slicing on non-monotonic DatetimeIndexes with non-existing keys is deprecated and will raise a KeyError in a future Version.\n",
      "  data = data.loc[\"2019-01-01\":\"2023-12-31\"]  # Filter by date range\n"
     ]
    },
    {
     "name": "stdout",
     "output_type": "stream",
     "text": [
      "Fetching data for DUK...\n"
     ]
    },
    {
     "name": "stderr",
     "output_type": "stream",
     "text": [
      "/var/folders/ft/435zx8653tx1h7p86f714_hh0000gn/T/ipykernel_33433/3714842178.py:43: FutureWarning: Value based partial slicing on non-monotonic DatetimeIndexes with non-existing keys is deprecated and will raise a KeyError in a future Version.\n",
      "  data = data.loc[\"2019-01-01\":\"2023-12-31\"]  # Filter by date range\n"
     ]
    },
    {
     "name": "stdout",
     "output_type": "stream",
     "text": [
      "Fetching data for GOOGL...\n"
     ]
    },
    {
     "name": "stderr",
     "output_type": "stream",
     "text": [
      "/var/folders/ft/435zx8653tx1h7p86f714_hh0000gn/T/ipykernel_33433/3714842178.py:43: FutureWarning: Value based partial slicing on non-monotonic DatetimeIndexes with non-existing keys is deprecated and will raise a KeyError in a future Version.\n",
      "  data = data.loc[\"2019-01-01\":\"2023-12-31\"]  # Filter by date range\n"
     ]
    },
    {
     "name": "stdout",
     "output_type": "stream",
     "text": [
      "Fetching data for META...\n"
     ]
    },
    {
     "name": "stderr",
     "output_type": "stream",
     "text": [
      "/var/folders/ft/435zx8653tx1h7p86f714_hh0000gn/T/ipykernel_33433/3714842178.py:43: FutureWarning: Value based partial slicing on non-monotonic DatetimeIndexes with non-existing keys is deprecated and will raise a KeyError in a future Version.\n",
      "  data = data.loc[\"2019-01-01\":\"2023-12-31\"]  # Filter by date range\n"
     ]
    },
    {
     "name": "stdout",
     "output_type": "stream",
     "text": [
      "Fetching data for SPY...\n"
     ]
    },
    {
     "name": "stderr",
     "output_type": "stream",
     "text": [
      "/var/folders/ft/435zx8653tx1h7p86f714_hh0000gn/T/ipykernel_33433/3714842178.py:43: FutureWarning: Value based partial slicing on non-monotonic DatetimeIndexes with non-existing keys is deprecated and will raise a KeyError in a future Version.\n",
      "  data = data.loc[\"2019-01-01\":\"2023-12-31\"]  # Filter by date range\n"
     ]
    },
    {
     "name": "stdout",
     "output_type": "stream",
     "text": [
      "Data saved to gics_stock_data_alpha_vantage.csv\n"
     ]
    }
   ],
   "source": [
    "from alpha_vantage.timeseries import TimeSeries\n",
    "import pandas as pd\n",
    "import time\n",
    "\n",
    "# Define your Alpha Vantage API Key\n",
    "API_KEY = \"LMSTBBNIERHKO5E6\"\n",
    "\n",
    "# Define your GICS company tickers\n",
    "tickers = [\n",
    "    \"AAPL\", \"MSFT\",  # Information Technology\n",
    "    \"JNJ\", \"PFE\",    # Healthcare\n",
    "    \"JPM\", \"BAC\",    # Financials\n",
    "    \"AMZN\", \"TSLA\",  # Consumer Discretionary\n",
    "    \"PG\", \"KO\",      # Consumer Staples\n",
    "    \"XOM\", \"CVX\",    # Energy\n",
    "    \"BA\", \"CAT\",     # Industrials\n",
    "    \"LIN\", \"DOW\",    # Materials\n",
    "    \"AMT\", \"SPG\",    # Real Estate\n",
    "    \"NEE\", \"DUK\",    # Utilities\n",
    "    \"GOOGL\", \"META\"  # Communication Services\n",
    "]\n",
    "\n",
    "# Define the market-wide performance ticker (e.g., S&P 500 ETF)\n",
    "market_ticker = \"SPY\"\n",
    "\n",
    "# Initialize the TimeSeries API\n",
    "ts = TimeSeries(key=API_KEY, output_format=\"pandas\")\n",
    "\n",
    "# Function to fetch and process data\n",
    "def fetch_data(ticker):\n",
    "    \"\"\"\n",
    "    Fetch stock data from Alpha Vantage.\n",
    "    \"\"\"\n",
    "    try:\n",
    "        print(f\"Fetching data for {ticker}...\")\n",
    "        data, _ = ts.get_daily_adjusted(symbol=ticker, outputsize=\"full\")\n",
    "        data = data.rename(columns={\n",
    "            \"5. adjusted close\": \"Adj Close\",\n",
    "            \"6. volume\": \"Volume\"\n",
    "        })\n",
    "        data = data[[\"Adj Close\", \"Volume\"]]\n",
    "        data.index = pd.to_datetime(data.index)\n",
    "        data = data.loc[\"2019-01-01\":\"2023-12-31\"]  # Filter by date range\n",
    "        return data\n",
    "    except Exception as e:\n",
    "        print(f\"Error fetching data for {ticker}: {e}\")\n",
    "        return None\n",
    "\n",
    "# Function to calculate quarterly metrics\n",
    "def calculate_quarterly_metrics(data):\n",
    "    \"\"\"\n",
    "    Calculate quarterly metrics: start price, end price, average volume, and growth.\n",
    "    \"\"\"\n",
    "    try:\n",
    "        data['Quarter'] = data.index.to_period(\"Q\")  # Group by quarter\n",
    "        grouped = data.groupby('Quarter').agg({\n",
    "            'Adj Close': ['first', 'last'],  # Start and end prices\n",
    "            'Volume': 'mean',  # Average volume\n",
    "        }).reset_index()\n",
    "        grouped.columns = ['Quarter', 'Start_Price', 'End_Price', 'Average_Volume']\n",
    "        grouped['Quarterly_Growth'] = (grouped['End_Price'] - grouped['Start_Price']) / grouped['Start_Price']\n",
    "        return grouped\n",
    "    except Exception as e:\n",
    "        print(f\"Error calculating metrics: {e}\")\n",
    "        return pd.DataFrame()  # Return empty DataFrame on error\n",
    "\n",
    "# Main function to process GICS data\n",
    "def process_gics_data(tickers, market_ticker):\n",
    "    \"\"\"\n",
    "    Process data for your specific GICS tickers and the market index.\n",
    "    \"\"\"\n",
    "    all_data = []\n",
    "\n",
    "    # Process each ticker\n",
    "    for ticker in tickers + [market_ticker]:\n",
    "        data = fetch_data(ticker)\n",
    "        if data is not None:\n",
    "            metrics = calculate_quarterly_metrics(data)\n",
    "            if not metrics.empty:\n",
    "                metrics['Ticker'] = ticker\n",
    "                metrics['Type'] = 'Market' if ticker == market_ticker else 'Company'\n",
    "                all_data.append(metrics)\n",
    "        # To prevent hitting API rate limits\n",
    "        time.sleep(12)  # Alpha Vantage allows 5 API calls per minute\n",
    "\n",
    "    # Combine all data into a single DataFrame\n",
    "    if all_data:\n",
    "        combined_data = pd.concat(all_data, ignore_index=True)\n",
    "        return combined_data\n",
    "    else:\n",
    "        print(\"No data was processed.\")\n",
    "        return pd.DataFrame()\n",
    "\n",
    "# Execute the process\n",
    "gics_data = process_gics_data(tickers, market_ticker)\n",
    "\n",
    "# Save to CSV if data exists\n",
    "if not gics_data.empty:\n",
    "    gics_data.to_csv(\"gics_stock_data_alpha_vantage.csv\", index=False)\n",
    "    print(\"Data saved to gics_stock_data_alpha_vantage.csv\")\n",
    "else:\n",
    "    print(\"No data to save.\")\n"
   ]
  },
  {
   "cell_type": "code",
   "execution_count": null,
   "id": "579b6acf-b623-43fe-8562-603bbf855ed8",
   "metadata": {},
   "outputs": [],
   "source": []
  },
  {
   "cell_type": "code",
   "execution_count": null,
   "id": "4932102e-4efa-4fac-ad60-3264ee513cb6",
   "metadata": {},
   "outputs": [],
   "source": []
  }
 ],
 "metadata": {
  "kernelspec": {
   "display_name": "Python 3 (ipykernel)",
   "language": "python",
   "name": "python3"
  },
  "language_info": {
   "codemirror_mode": {
    "name": "ipython",
    "version": 3
   },
   "file_extension": ".py",
   "mimetype": "text/x-python",
   "name": "python",
   "nbconvert_exporter": "python",
   "pygments_lexer": "ipython3",
   "version": "3.9.13"
  }
 },
 "nbformat": 4,
 "nbformat_minor": 5
}
